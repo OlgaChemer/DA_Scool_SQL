{
 "cells": [
  {
   "cell_type": "code",
   "execution_count": null,
   "id": "3e8d9e2c",
   "metadata": {},
   "outputs": [],
   "source": []
  },
  {
   "cell_type": "code",
   "execution_count": 74,
   "id": "c9c7272f",
   "metadata": {},
   "outputs": [],
   "source": [
    "#проверка подключения PostgreSQL \n",
    "import psycopg2\n",
    "import pandas as pd\n",
    "#Библиотека для визуализации\n",
    "from IPython.display import HTML\n",
    "import plotly.express as px\n",
    "\n",
    "import seaborn as sns\n",
    "import matplotlib.pyplot as plt\n",
    "%matplotlib inline\n",
    "\n",
    "#!введите свои реквизиты!\n",
    "DB_HOST = '52.157.159.24'\n",
    "DB_USER = 'student24'\n",
    "DB_USER_PASSWORD = 'student24_password'\n",
    "DB_NAME = 'sql_ex_for_student24'\n",
    "\n",
    "conn = psycopg2.connect(host=DB_HOST, user=DB_USER, password=DB_USER_PASSWORD, dbname=DB_NAME)"
   ]
  },
  {
   "cell_type": "code",
   "execution_count": 53,
   "id": "36806965",
   "metadata": {},
   "outputs": [
    {
     "data": {
      "image/png": "[encoded data removed]",
      "text/plain": [
       "<Figure size 576x288 with 1 Axes>"
      ]
     },
     "metadata": {
      "needs_background": "light"
     },
     "output_type": "display_data"
    }
   ],
   "source": [
    "# task6 (lesson4)\n",
    "# Компьютерная фирма: Сделать view с количеством товаров (название count_products_by_makers) по каждому производителю. \n",
    "# Во view: maker, count\n",
    "\n",
    "request = \"\"\"\n",
    "\tselect maker, count(model) as cnt\n",
    "\tfrom product\n",
    "\tgroup by maker\n",
    "\torder by cnt\n",
    "\"\"\"\n",
    "\n",
    "df = pd.read_sql_query(request, conn)\n",
    "fig, ax = plt.subplots(figsize=(8,4)) \n",
    "sns.barplot(x = df.maker, y = df.cnt, palette=\"mako\")\n",
    "plt.show()"
   ]
  },
  {
   "cell_type": "code",
   "execution_count": 69,
   "id": "9f5dee90",
   "metadata": {},
   "outputs": [
    {
     "data": {
      "image/png": "[encoded data removed]",
      "text/plain": [
       "<Figure size 576x288 with 1 Axes>"
      ]
     },
     "metadata": {
      "needs_background": "light"
     },
     "output_type": "display_data"
    }
   ],
   "source": [
    "# task11 (lesson4)\n",
    "# Корабли: По предыдущему view (sunk_ships_by_classes) сделать график в colab (X: class, Y: count)\n",
    "\n",
    "request = \"\"\"\n",
    "select count(o.result) as cnt,\n",
    "\tcase \n",
    "\t\twhen class is null\n",
    "\t\tthen '0'\n",
    "\t\telse \"class\" \n",
    "\t\tend class_\n",
    "\tfrom outcomes o\n",
    "\tleft join\n",
    "\t\tships sh on sh.\"name\" = o.ship \n",
    "\tgroup by \"class\"\n",
    "\"\"\"\n",
    "\n",
    "df = pd.read_sql_query(request, conn)\n",
    "fig, ax = plt.subplots(figsize=(8,4)) \n",
    "sns.barplot(x = df.class_, y = df.cnt, palette=\"mako\")\n",
    "plt.show()"
   ]
  },
  {
   "cell_type": "code",
   "execution_count": 57,
   "id": "cc17e9f8",
   "metadata": {},
   "outputs": [
    {
     "data": {
      "image/png": "[encoded data removed]",
      "text/plain": [
       "<Figure size 576x288 with 1 Axes>"
      ]
     },
     "metadata": {
      "needs_background": "light"
     },
     "output_type": "display_data"
    }
   ],
   "source": [
    "# task13 (lesson4)\n",
    "# Корабли: Сделать график в colab по таблице classes с количеством классов по странам (X: country, Y: count)\n",
    "\n",
    "request = \"\"\"\n",
    "select country, count(\"class\") cnt\n",
    "from classes\n",
    "group by country \n",
    "\"\"\"\n",
    "\n",
    "df = pd.read_sql_query(request, conn)\n",
    "fig, ax = plt.subplots(figsize=(8,4)) \n",
    "sns.barplot(x = df.country, y = df.cnt, palette=\"mako\")\n",
    "plt.show()"
   ]
  },
  {
   "cell_type": "code",
   "execution_count": 75,
   "id": "18d202c9",
   "metadata": {},
   "outputs": [
    {
     "data": {
      "image/png": "[encoded data removed]",
      "text/plain": [
       "<Figure size 576x288 with 1 Axes>"
      ]
     },
     "metadata": {
      "needs_background": "light"
     },
     "output_type": "display_data"
    }
   ],
   "source": [
    "# task16 (lesson4)\n",
    "# Корабли: Построить график с количеством запущенных на воду кораблей и годом запуска (X: year, Y: count)\n",
    "\n",
    "request = \"\"\"\n",
    "select \n",
    "\tcount(name) as cnt,\n",
    "\tlaunched as year\n",
    "from \n",
    "\tships s\n",
    "group by year\n",
    "\"\"\"\n",
    "\n",
    "df = pd.read_sql_query(request, conn)\n",
    "fig, ax = plt.subplots(figsize=(8,4)) \n",
    "sns.barplot(x = df.year, y = df.cnt, palette=\"mako\")\n",
    "plt.show()"
   ]
  },
  {
   "cell_type": "code",
   "execution_count": null,
   "id": "7f4bfe3e",
   "metadata": {},
   "outputs": [],
   "source": []
  },
  {
   "cell_type": "code",
   "execution_count": null,
   "id": "d255d331",
   "metadata": {},
   "outputs": [],
   "source": []
  },
  {
   "cell_type": "code",
   "execution_count": null,
   "id": "7d2c1d0c",
   "metadata": {},
   "outputs": [],
   "source": []
  }
 ],
 "metadata": {
  "kernelspec": {
   "display_name": "Python 3 (ipykernel)",
   "language": "python",
   "name": "python3"
  },
  "language_info": {
   "codemirror_mode": {
    "name": "ipython",
    "version": 3
   },
   "file_extension": ".py",
   "mimetype": "text/x-python",
   "name": "python",
   "nbconvert_exporter": "python",
   "pygments_lexer": "ipython3",
   "version": "3.8.12"
  }
 },
 "nbformat": 4,
 "nbformat_minor": 5
}
